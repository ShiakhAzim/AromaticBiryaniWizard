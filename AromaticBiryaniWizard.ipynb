{
 "cells": [
  {
   "cell_type": "code",
   "execution_count": 2,
   "id": "fd0f69b6",
   "metadata": {},
   "outputs": [
    {
     "name": "stdout",
     "output_type": "stream",
     "text": [
      "Enter a multiplier: 8\n",
      "                                Ingredients  Quantity   Unit\n",
      "0                      Basmati Rice(chawal)       8.0     kg\n",
      "1                            Chicken/mutton       8.0     kg\n",
      "2                              salt (namak)       2.0     kg\n",
      "3                                  oil(tel)       4.0     kg\n",
      "4                                      ghee       2.0     kg\n",
      "5                              Yogurt(dahi)       2.0     kg\n",
      "6                             Onions(kanda)       6.0     kg\n",
      "7                          Tomatoes(tamata)       2.4     kg\n",
      "8                            Ginger (adrak)       2.0     kg\n",
      "9                            Garlic(lehsun)       1.0     kg\n",
      "10                       Coriander (kotmir)       4.0  bunch\n",
      "11                           mint (Pudhina)       2.0  bunch\n",
      "12                            nimbu (lemon)      16.0   unit\n",
      "13                    lazeez biryani masala      80.0   gram\n",
      "14  Ginger_garlic paste(adrak lehsun paste)       1.0     kg\n",
      "15                      ambari kanda masala     400.0   gram\n",
      "16                          turmeric(haldi)     200.0   gram\n",
      "17         Coriander powder(dhaniya powder)     400.0   gram\n",
      "18                                   lawang      40.0   gram\n",
      "19                                 dalchini      40.0   gram\n",
      "20                               shah jeera      80.0   gram\n",
      "21                             hari elaichi      80.0   gram\n",
      "22                               star phool      40.0   gram\n",
      "23                               teez patta      40.0   gram\n"
     ]
    }
   ],
   "source": [
    "import pandas as pd\n",
    "\n",
    "# Replace the file path with the actual path to your CSV file\n",
    "df = pd.read_csv(r\"C:\\Users\\agent\\Desktop\\b.csv\")\n",
    "df[['Quantity', 'Unit']] = df['Quantity'].str.split(' ', expand=True)  # split\n",
    "\n",
    "# Ask for user input\n",
    "multiplier = float(input(\"Enter a multiplier: \"))\n",
    "\n",
    "# Create a new dataframe to store the updated quantities\n",
    "updated_df = df.copy()\n",
    "\n",
    "# Convert Quantity column to numeric type\n",
    "updated_df['Quantity'] = pd.to_numeric(updated_df['Quantity'])\n",
    "\n",
    "# Multiply Quantity column with the user input multiplier\n",
    "updated_df['Quantity'] = updated_df['Quantity'] * multiplier\n",
    "\n",
    "# Convert grams to kilograms for quantities >= 1000\n",
    "updated_df.loc[updated_df['Quantity'] >= 1000, 'Unit'] = 'kg'\n",
    "updated_df.loc[updated_df['Quantity'] >= 1000, 'Quantity'] = updated_df.loc[updated_df['Quantity'] >= 1000, 'Quantity'] / 1000\n",
    "\n",
    "# Print the updated dataframe\n",
    "print(updated_df)\n"
   ]
  },
  {
   "cell_type": "code",
   "execution_count": null,
   "id": "beab3fbf",
   "metadata": {},
   "outputs": [],
   "source": []
  }
 ],
 "metadata": {
  "kernelspec": {
   "display_name": "Python 3 (ipykernel)",
   "language": "python",
   "name": "python3"
  },
  "language_info": {
   "codemirror_mode": {
    "name": "ipython",
    "version": 3
   },
   "file_extension": ".py",
   "mimetype": "text/x-python",
   "name": "python",
   "nbconvert_exporter": "python",
   "pygments_lexer": "ipython3",
   "version": "3.10.9"
  }
 },
 "nbformat": 4,
 "nbformat_minor": 5
}
